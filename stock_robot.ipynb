{
 "cells": [
  {
   "cell_type": "code",
   "execution_count": 2,
   "outputs": [
    {
     "name": "stdout",
     "text": [
      "{'symbol': 'AAPL', 'companyName': 'Apple, Inc.', 'primaryExchange': 'NASDAQ', 'calculationPrice': 'close', 'open': 210, 'openTime': 1567171800675, 'close': 208.74, 'closeTime': 1567195200578, 'high': 210.45, 'low': 207.2, 'latestPrice': 208.74, 'latestSource': 'Close', 'latestTime': 'August 30, 2019', 'latestUpdate': 1567195200578, 'latestVolume': 21087548, 'iexRealtimePrice': None, 'iexRealtimeSize': None, 'iexLastUpdated': None, 'delayedPrice': 208.74, 'delayedPriceTime': 1567196100013, 'extendedPrice': 208.15, 'extendedChange': -0.59, 'extendedChangePercent': -0.00283, 'extendedPriceTime': 1567295993472, 'previousClose': 209.01, 'previousVolume': 21007652, 'change': -0.27, 'changePercent': -0.00129, 'volume': 21087548, 'iexMarketPercent': None, 'iexVolume': None, 'avgTotalVolume': 29851979, 'iexBidPrice': None, 'iexBidSize': None, 'iexAskPrice': None, 'iexAskSize': None, 'marketCap': 943333633200, 'peRatio': 17.64, 'week52High': 233.47, 'week52Low': 142, 'ytdChange': 0.320519, 'lastTradeTime': 1567195133069, 'isUSMarketOpen': False}\n"
     ],
     "output_type": "stream"
    }
   ],
   "source": [
    "# test for iexfinance API\n",
    "from iexfinance.stocks import Stock\n",
    "\n",
    "appl = Stock('AAPL', token=\"sk_5949b3f3377c4d278e80fa93394b9bda\")\n",
    "\n",
    "quote = appl.get_quote()\n",
    "print(quote)"
   ],
   "metadata": {
    "collapsed": false,
    "pycharm": {
     "name": "#%%\n",
     "is_executing": false
    }
   }
  },
  {
   "cell_type": "code",
   "execution_count": null,
   "outputs": [],
   "source": [
    "# Deploy to the Wechat by WXPY\n",
    "from wxpy import *\n",
    "bot = Bot()\n",
    "my_friend = bot.friends().search('三丫')[0]"
   ],
   "metadata": {
    "collapsed": false,
    "pycharm": {
     "name": "#%%\n"
    }
   }
  },
  {
   "cell_type": "code",
   "execution_count": 3,
   "outputs": [
    {
     "name": "stdout",
     "text": [
      "International Business Machines Corp. in New York Stock Exchange have latest price 135.53 updated in August 30, 2019\n",
      "['Intelsat SA in New York Stock Exchange have latest price 20.68 updated in August 30, 2019', 'Barnes Group, Inc. in New York Stock Exchange have latest price 44.85 updated in August 30, 2019', \"Macy's, Inc. in New York Stock Exchange have latest price 14.76 updated in August 30, 2019\"]\n",
      "\nInternational Business Machines Corp. in New York Stock Exchange have latest price 135.53 updated in August 30, 2019\n"
     ],
     "output_type": "stream"
    }
   ],
   "source": [
    "from iexfinance.stocks import Stock\n",
    "# use API to get the stock information\n",
    "def get_stock_info(stock_symbol):\n",
    "    stock = Stock(stock_symbol,token=\"sk_5949b3f3377c4d278e80fa93394b9bda\")\n",
    "    try:\n",
    "        quote = stock.get_quote()\n",
    "    except:\n",
    "        return \"\"\n",
    "    else:\n",
    "        template = \"{} in {} have latest price {} updated in {}\"\n",
    "        return template.format(quote[\"companyName\"],quote['primaryExchange'],str(quote['latestPrice']),quote['latestTime'])\n",
    "print(get_stock_info(\"IBM\"))\n",
    "# return the query informations\n",
    "def query_stock_info(stock_symbols):\n",
    "    query_info = []\n",
    "    for stock in stock_symbols:\n",
    "        info = get_stock_info(stock)\n",
    "        if info is not \"\":\n",
    "            query_info.append(info)\n",
    "        if len(query_info) == 0:\n",
    "            return None\n",
    "    return query_info\n",
    "print(query_stock_info(\"IBM\"))\n",
    "# format the information   \n",
    "def format_info(query_info):\n",
    "    result = \"\"\n",
    "    for info in query_info:\n",
    "        result = result+\"\\n\"+info\n",
    "    return result\n",
    "print(format_info(query_stock_info([\"IBM\"])))"
   ],
   "metadata": {
    "collapsed": false,
    "pycharm": {
     "name": "#%%\n",
     "is_executing": false
    }
   }
  },
  {
   "cell_type": "code",
   "execution_count": 4,
   "outputs": [
    {
     "name": "stdout",
     "text": [
      "['APPL', 'IBM', 'TSLE']\n"
     ],
     "output_type": "stream"
    }
   ],
   "source": [
    "# extract the stock symbol by regex, return an empty list if not matched.\n",
    "import re\n",
    "text = \"I Want to check the stock for APPL, IBM and TSLE\"\n",
    "def extract_entities_re(text):\n",
    "    pattern = re.compile(r\"([\\w]+[A-Z]+[\\w]+)|(^[A-Z]+$)\")\n",
    "    results = pattern.findall(text)\n",
    "    intent_list = []\n",
    "    for item in results:\n",
    "        for intent in item:\n",
    "            if intent is not \"\":\n",
    "                intent_list.append(intent.strip())\n",
    "    return intent_list\n",
    "print(extract_entities_re(text))"
   ],
   "metadata": {
    "collapsed": false,
    "pycharm": {
     "name": "#%%\n",
     "is_executing": false
    }
   }
  },
  {
   "cell_type": "code",
   "execution_count": 5,
   "outputs": [],
   "source": [
    "def extract_entities(text):\n",
    "    return extract_entities_re(text)"
   ],
   "metadata": {
    "collapsed": false,
    "pycharm": {
     "name": "#%%\n",
     "is_executing": false
    }
   }
  },
  {
   "cell_type": "code",
   "execution_count": 6,
   "outputs": [
    {
     "name": "stdout",
     "text": [
      "(['AAPL'], ['IBM'])\n"
     ],
     "output_type": "stream"
    }
   ],
   "source": [
    "# extract the entities with negation entities return entities, neg_entities\n",
    "def extract_all_entities(text):\n",
    "    entities = extract_entities(text)\n",
    "    neg_policy = [\"n't\",\"not\"]\n",
    "    # get the index of the final character of each entities\n",
    "    ends_index = sorted([text.index(e)+len(e) for e in entities])\n",
    "    # initialise a list to store sentence chuncks\n",
    "    chunks = []\n",
    "    start = 0\n",
    "    for end in ends_index:\n",
    "        chunks.append(text[start:end])\n",
    "        start = end\n",
    "    pos_entities = []\n",
    "    neg_entities = []\n",
    "    for chunk in chunks:\n",
    "        for entity in entities:\n",
    "            if entity in chunk:\n",
    "                if \"not\" in chunk or \"n't\" in chunk:\n",
    "                    neg_entities.append(entity)\n",
    "                else:\n",
    "                    pos_entities.append(entity)\n",
    "    return pos_entities,neg_entities\n",
    "text = \"I want the stock for AAPL but not IBM\"\n",
    "print(extract_all_entities(text))         "
   ],
   "metadata": {
    "collapsed": false,
    "pycharm": {
     "name": "#%%\n",
     "is_executing": false
    }
   }
  },
  {
   "cell_type": "code",
   "execution_count": 7,
   "outputs": [],
   "source": [
    "# define the robot behaviors (behavior:String -> response:[String])\n",
    "robot_behaviors = {\n",
    "    \"default\":[\"I'm sorry, I am not quite understand you :(\"],\n",
    "    \"greet\":[\"Hello my friend, I am your stock assitant, I can help you solve stock problems\",\"Hi my friend, what can I help you?\"],\n",
    "    \"explain_functions\":[\"I can help you to check the stock information\",\"I can help you to check your stock, please tell me the stock symbol.\"],\n",
    "    \"ask_more_entities\":[\"Please tell me the stock symbol you what to search.\"],\n",
    "    \"confirm_with_stock_entities\":[\"No problem, wait me for a second\"],\n",
    "    \"confirm_without_stock_entities\":[\"Sure, could you give me the stock symbol please?\"],\n",
    "    \"answer_stock_info\":[\"Here is the information about the stock {},do you what to search another stock?\"],\n",
    "    \"ask_another_search\":[\"Do you what to search another stock?\"],\n",
    "    \"search_failed\":[\"Sorry, I cannot find the information about the stock, do you want another try?\"],\n",
    "    \"farewell_ok\":[\"Good by, have a nice day!\"],\n",
    "    \"farewell_failed\":[\"Bye, I am sorry that I can't help you for that T_T\"]\n",
    "}"
   ],
   "metadata": {
    "collapsed": false,
    "pycharm": {
     "name": "#%%\n",
     "is_executing": false
    }
   }
  },
  {
   "cell_type": "code",
   "execution_count": 8,
   "outputs": [],
   "source": [
    "# define the robot state\n",
    "INIT = 0\n",
    "STOCK_SEARCH = 1  \n",
    "FAREWELL = 2 \n",
    "\n",
    "# define the pending state\n",
    "REQUIRE_ENTITIES = 0\n",
    "ENTITIES_OK = 1\n",
    "DATA_OK = 2\n",
    "DATA_FAILED = 3\n",
    "\n"
   ],
   "metadata": {
    "collapsed": false,
    "pycharm": {
     "name": "#%%\n",
     "is_executing": false
    }
   }
  },
  {
   "cell_type": "code",
   "execution_count": 9,
   "outputs": [],
   "source": [
    "# define state transition policy\n",
    "policy = {\n",
    "    (INIT,None,None):(INIT,False,robot_behaviors[\"default\"]),\n",
    "    (INIT,None,\"greet\"):(INIT,False,robot_behaviors[\"greet\"]),\n",
    "    (INIT,None,\"ask_functions\"):(INIT,False,robot_behaviors[\"explain_functions\"]),\n",
    "    (INIT,REQUIRE_ENTITIES,\"stock_search\"):(STOCK_SEARCH,True,robot_behaviors[\"confirm_without_stock_entities\"]),\n",
    "    (INIT,ENTITIES_OK,\"stock_search\"):(STOCK_SEARCH,True,robot_behaviors[\"confirm_with_stock_entities\"]),\n",
    "    (STOCK_SEARCH,REQUIRE_ENTITIES,None):(STOCK_SEARCH,False,robot_behaviors[\"ask_more_entities\"]),\n",
    "    (STOCK_SEARCH,ENTITIES_OK,None):(STOCK_SEARCH,True,robot_behaviors[\"confirm_with_stock_entities\"]),\n",
    "    (STOCK_SEARCH,ENTITIES_OK,\"stock_search\"):(STOCK_SEARCH,True,robot_behaviors[\"confirm_with_stock_entities\"]),\n",
    "    (STOCK_SEARCH,DATA_OK,None):(STOCK_SEARCH,False,robot_behaviors[\"answer_stock_info\"]),\n",
    "    (STOCK_SEARCH,DATA_OK,\"stock_search\"):(STOCK_SEARCH,False,robot_behaviors[\"answer_stock_info\"]),\n",
    "    (STOCK_SEARCH,DATA_OK,\"confirm\"):(STOCK_SEARCH,False,robot_behaviors[\"ask_more_entities\"]),\n",
    "    (STOCK_SEARCH,DATA_OK,\"negative\"):(INIT,False,robot_behaviors[\"farewell_ok\"]),\n",
    "    (STOCK_SEARCH,DATA_FAILED,None):(STOCK_SEARCH,True,robot_behaviors[\"search_failed\"]),\n",
    "    (STOCK_SEARCH,DATA_FAILED,\"confirm\"):(STOCK_SEARCH,False,robot_behaviors[\"ask_more_entities\"]),\n",
    "    (STOCK_SEARCH,DATA_FAILED,\"negative\"):(INIT,False,robot_behaviors[\"farewell_failed\"]),\n",
    "    (FAREWELL,None,\"farewell\"):(INIT,False,robot_behaviors[\"farewell_ok\"])\n",
    "    \n",
    "}\n"
   ],
   "metadata": {
    "collapsed": false,
    "pycharm": {
     "name": "#%%\n",
     "is_executing": false
    }
   }
  },
  {
   "cell_type": "code",
   "execution_count": 10,
   "outputs": [],
   "source": [
    "# judge the pending stage\n",
    "def pending(state,intent,current_entities,current_data):\n",
    "    pendingState = None\n",
    "    if state is INIT and intent != \"stock_search\":\n",
    "        pendingState = None\n",
    "        current_entities = []\n",
    "        current_data = []\n",
    "    elif state is INIT and intent == \"stock_search\":\n",
    "        if len(current_entities) != 0:\n",
    "            pendingState = ENTITIES_OK\n",
    "        else:\n",
    "            pendingState = REQUIRE_ENTITIES\n",
    "    elif current_data is None:\n",
    "        pendingState = DATA_FAILED\n",
    "        current_data = []\n",
    "    elif state is STOCK_SEARCH and len(current_entities) == 0 and len(current_data) is 0:\n",
    "        pendingState =  REQUIRE_ENTITIES\n",
    "    elif state is STOCK_SEARCH and len(current_entities) > 0 and current_data is not None: #and len(current_data) is 0\n",
    "        pendingState = ENTITIES_OK\n",
    "    elif state is STOCK_SEARCH and len(current_data) is not 0:\n",
    "        pendingState = DATA_OK\n",
    "    elif state is STOCK_SEARCH and len(current_entities) > 0 and current_data is None :\n",
    "        pendingState = DATA_FAILED\n",
    "    elif state is FAREWELL:\n",
    "        pendingState = None\n",
    "        current_entities = []\n",
    "        current_data = []\n",
    "        \n",
    "    return pendingState\n",
    "            "
   ],
   "metadata": {
    "collapsed": false,
    "pycharm": {
     "name": "#%%\n",
     "is_executing": false
    }
   }
  },
  {
   "cell_type": "code",
   "execution_count": 11,
   "outputs": [],
   "source": [
    "# execute the policy\n",
    "import random\n",
    "def execute_policy(state,intent,current_entities,current_data):\n",
    "    pendingState = pending(state,intent,current_entities,current_data)\n",
    "    if intent == \"confirm\" or intent == \"negative\":\n",
    "        print(\"clear data\")\n",
    "        current_entities = []\n",
    "        current_data = []\n",
    "    try:\n",
    "        next_state, isInternal, behaviors = policy[(state,pendingState,intent)]\n",
    "        if \"{}\" in random.choice(behaviors):\n",
    "            print(\"bot: \"+random.choice(behaviors).format(format_info(current_data)))\n",
    "            my_friend.send(random.choice(behaviors).format(format_info(current_data)))\n",
    "        else:\n",
    "            print(\"bot: \"+random.choice(behaviors))\n",
    "            my_friend.send(random.choice(behaviors))\n",
    "    except:\n",
    "        if intent == \"farewell\":\n",
    "            next_state,current_entities,current_data = execute_policy(FAREWELL,intent,current_entities,current_data)\n",
    "        else:\n",
    "            next_state,current_entities,current_data = execute_policy(state,None,current_entities,current_data)\n",
    "    else:\n",
    "        if isInternal:\n",
    "            if pendingState is ENTITIES_OK:\n",
    "                current_data = query_stock_info(current_entities)\n",
    "                if current_data is not None:\n",
    "                    current_entities = []\n",
    "                next_state,current_entities,current_data =  execute_policy(next_state,None,current_entities,current_data)\n",
    "    return next_state,current_entities,current_data\n"
   ],
   "metadata": {
    "collapsed": false,
    "pycharm": {
     "name": "#%%\n",
     "is_executing": false
    }
   }
  },
  {
   "cell_type": "code",
   "execution_count": 1,
   "outputs": [
    {
     "name": "stdout",
     "text": [
      "Fitting 2 folds for each of 6 candidates, totalling 12 fits\n"
     ],
     "output_type": "stream"
    },
    {
     "name": "stderr",
     "text": [
      "[Parallel(n_jobs=1)]: Using backend SequentialBackend with 1 concurrent workers.\n/anaconda3/lib/python3.7/site-packages/sklearn/metrics/classification.py:1143: UndefinedMetricWarning: F-score is ill-defined and being set to 0.0 in labels with no predicted samples.\n  'precision', 'predicted', average, warn_for)\n/anaconda3/lib/python3.7/site-packages/sklearn/metrics/classification.py:1143: UndefinedMetricWarning: F-score is ill-defined and being set to 0.0 in labels with no predicted samples.\n  'precision', 'predicted', average, warn_for)\n/anaconda3/lib/python3.7/site-packages/sklearn/metrics/classification.py:1143: UndefinedMetricWarning: F-score is ill-defined and being set to 0.0 in labels with no predicted samples.\n  'precision', 'predicted', average, warn_for)\n/anaconda3/lib/python3.7/site-packages/sklearn/metrics/classification.py:1143: UndefinedMetricWarning: F-score is ill-defined and being set to 0.0 in labels with no predicted samples.\n  'precision', 'predicted', average, warn_for)\n/anaconda3/lib/python3.7/site-packages/sklearn/metrics/classification.py:1143: UndefinedMetricWarning: F-score is ill-defined and being set to 0.0 in labels with no predicted samples.\n  'precision', 'predicted', average, warn_for)\n/anaconda3/lib/python3.7/site-packages/sklearn/metrics/classification.py:1143: UndefinedMetricWarning: F-score is ill-defined and being set to 0.0 in labels with no predicted samples.\n  'precision', 'predicted', average, warn_for)\n/anaconda3/lib/python3.7/site-packages/sklearn/metrics/classification.py:1143: UndefinedMetricWarning: F-score is ill-defined and being set to 0.0 in labels with no predicted samples.\n  'precision', 'predicted', average, warn_for)\n/anaconda3/lib/python3.7/site-packages/sklearn/metrics/classification.py:1143: UndefinedMetricWarning: F-score is ill-defined and being set to 0.0 in labels with no predicted samples.\n  'precision', 'predicted', average, warn_for)\n/anaconda3/lib/python3.7/site-packages/sklearn/metrics/classification.py:1143: UndefinedMetricWarning: F-score is ill-defined and being set to 0.0 in labels with no predicted samples.\n  'precision', 'predicted', average, warn_for)\n/anaconda3/lib/python3.7/site-packages/sklearn/metrics/classification.py:1143: UndefinedMetricWarning: F-score is ill-defined and being set to 0.0 in labels with no predicted samples.\n  'precision', 'predicted', average, warn_for)\n/anaconda3/lib/python3.7/site-packages/sklearn/metrics/classification.py:1143: UndefinedMetricWarning: F-score is ill-defined and being set to 0.0 in labels with no predicted samples.\n  'precision', 'predicted', average, warn_for)\n/anaconda3/lib/python3.7/site-packages/sklearn/metrics/classification.py:1143: UndefinedMetricWarning: F-score is ill-defined and being set to 0.0 in labels with no predicted samples.\n  'precision', 'predicted', average, warn_for)\n[Parallel(n_jobs=1)]: Done  12 out of  12 | elapsed:    0.1s finished\n"
     ],
     "output_type": "stream"
    }
   ],
   "source": [
    "# Import necessary modules\n",
    "from rasa_nlu.training_data import load_data\n",
    "from rasa_nlu.config import RasaNLUModelConfig\n",
    "from rasa_nlu.model import Trainer\n",
    "from rasa_nlu import config\n",
    "\n",
    "# Create a trainer that uses this config\n",
    "trainer = Trainer(config.load(\"data/config_spacy.yml\"))\n",
    "\n",
    "# Load the training data\n",
    "training_data = load_data('data/testData2.json')\n",
    "\n",
    "# Create an interpreter by training the model\n",
    "interpreter = trainer.train(training_data)\n",
    "def interpret (message):\n",
    "    intent = interpreter.parse(message)[\"intent\"][\"name\"]\n",
    "    entities = interpreter.parse(message)[\"entities\"]\n",
    "    return intent, entities"
   ],
   "metadata": {
    "collapsed": false,
    "pycharm": {
     "name": "#%%\n",
     "is_executing": false
    }
   }
  },
  {
   "cell_type": "code",
   "execution_count": 12,
   "outputs": [],
   "source": [
    "# Initial System state\n",
    "state = INIT\n",
    "current_entities = []\n",
    "current_data = []"
   ],
   "metadata": {
    "collapsed": false,
    "pycharm": {
     "name": "#%%\n",
     "is_executing": false
    }
   }
  },
  {
   "cell_type": "code",
   "execution_count": 13,
   "outputs": [],
   "source": [
    "# define the response function\n",
    "def respond(message):\n",
    "    intent, entities = interpret(message)\n",
    "    entities = extract_all_entities(message)[0]\n",
    "    \n",
    "    next_state,new_entities,data = execute_policy(state,intent,entities,current_data)\n",
    "  \n",
    "    return next_state,new_entities,data"
   ],
   "metadata": {
    "collapsed": false,
    "pycharm": {
     "name": "#%%\n",
     "is_executing": false
    }
   }
  },
  {
   "cell_type": "code",
   "execution_count": null,
   "outputs": [],
   "source": [
    "@bot.register(my_friend)\n",
    "def reply_my_friend(msg):\n",
    "    global state, current_entities,current_data\n",
    "    state,current_entities,current_data = respond(msg.text)\n",
    "    \n",
    "    return \"\""
   ],
   "metadata": {
    "collapsed": false,
    "pycharm": {
     "name": "#%%\n"
    }
   }
  },
  {
   "cell_type": "code",
   "execution_count": null,
   "outputs": [],
   "source": [
    "print(\"debug:\",state,\"current_entities:\",current_entities,\"current_data:\",current_data)"
   ],
   "metadata": {
    "collapsed": false,
    "pycharm": {
     "name": "#%%\n"
    }
   }
  },
  {
   "cell_type": "code",
   "execution_count": 20,
   "outputs": [
    {
     "name": "stdout",
     "text": [
      "clear data\nbot: Good by, have a nice day!\n"
     ],
     "output_type": "stream"
    }
   ],
   "source": [
    "state,current_entities,current_data = respond(\"No\")\n"
   ],
   "metadata": {
    "collapsed": false,
    "pycharm": {
     "name": "#%%\n",
     "is_executing": false
    }
   }
  }
 ],
 "metadata": {
  "kernelspec": {
   "display_name": "Python 3",
   "language": "python",
   "name": "python3"
  },
  "language_info": {
   "codemirror_mode": {
    "name": "ipython",
    "version": 3
   },
   "file_extension": ".py",
   "mimetype": "text/x-python",
   "name": "python",
   "nbconvert_exporter": "python",
   "pygments_lexer": "ipython3",
   "version": "3.7.3"
  },
  "pycharm": {
   "stem_cell": {
    "cell_type": "raw",
    "source": [],
    "metadata": {
     "collapsed": false
    }
   }
  }
 },
 "nbformat": 4,
 "nbformat_minor": 1
}