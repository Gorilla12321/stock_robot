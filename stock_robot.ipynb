{
 "cells": [
  {
   "cell_type": "code",
   "execution_count": 2,
   "metadata": {
    "pycharm": {
     "is_executing": false,
     "name": "#%%\n"
    }
   },
   "outputs": [
    {
     "name": "stdout",
     "output_type": "stream",
     "text": [
      "Fitting 2 folds for each of 6 candidates, totalling 12 fits\n"
     ]
    },
    {
     "name": "stderr",
     "output_type": "stream",
     "text": [
      "[Parallel(n_jobs=1)]: Using backend SequentialBackend with 1 concurrent workers.\n",
      "/anaconda3/lib/python3.7/site-packages/sklearn/metrics/classification.py:1143: UndefinedMetricWarning: F-score is ill-defined and being set to 0.0 in labels with no predicted samples.\n",
      "  'precision', 'predicted', average, warn_for)\n",
      "/anaconda3/lib/python3.7/site-packages/sklearn/metrics/classification.py:1143: UndefinedMetricWarning: F-score is ill-defined and being set to 0.0 in labels with no predicted samples.\n",
      "  'precision', 'predicted', average, warn_for)\n",
      "/anaconda3/lib/python3.7/site-packages/sklearn/metrics/classification.py:1143: UndefinedMetricWarning: F-score is ill-defined and being set to 0.0 in labels with no predicted samples.\n",
      "  'precision', 'predicted', average, warn_for)\n",
      "/anaconda3/lib/python3.7/site-packages/sklearn/metrics/classification.py:1143: UndefinedMetricWarning: F-score is ill-defined and being set to 0.0 in labels with no predicted samples.\n",
      "  'precision', 'predicted', average, warn_for)\n",
      "/anaconda3/lib/python3.7/site-packages/sklearn/metrics/classification.py:1143: UndefinedMetricWarning: F-score is ill-defined and being set to 0.0 in labels with no predicted samples.\n",
      "  'precision', 'predicted', average, warn_for)\n",
      "/anaconda3/lib/python3.7/site-packages/sklearn/metrics/classification.py:1143: UndefinedMetricWarning: F-score is ill-defined and being set to 0.0 in labels with no predicted samples.\n",
      "  'precision', 'predicted', average, warn_for)\n",
      "/anaconda3/lib/python3.7/site-packages/sklearn/metrics/classification.py:1143: UndefinedMetricWarning: F-score is ill-defined and being set to 0.0 in labels with no predicted samples.\n",
      "  'precision', 'predicted', average, warn_for)\n",
      "/anaconda3/lib/python3.7/site-packages/sklearn/metrics/classification.py:1143: UndefinedMetricWarning: F-score is ill-defined and being set to 0.0 in labels with no predicted samples.\n",
      "  'precision', 'predicted', average, warn_for)\n",
      "/anaconda3/lib/python3.7/site-packages/sklearn/metrics/classification.py:1143: UndefinedMetricWarning: F-score is ill-defined and being set to 0.0 in labels with no predicted samples.\n",
      "  'precision', 'predicted', average, warn_for)\n",
      "/anaconda3/lib/python3.7/site-packages/sklearn/metrics/classification.py:1143: UndefinedMetricWarning: F-score is ill-defined and being set to 0.0 in labels with no predicted samples.\n",
      "  'precision', 'predicted', average, warn_for)\n",
      "/anaconda3/lib/python3.7/site-packages/sklearn/metrics/classification.py:1143: UndefinedMetricWarning: F-score is ill-defined and being set to 0.0 in labels with no predicted samples.\n",
      "  'precision', 'predicted', average, warn_for)\n",
      "/anaconda3/lib/python3.7/site-packages/sklearn/metrics/classification.py:1143: UndefinedMetricWarning: F-score is ill-defined and being set to 0.0 in labels with no predicted samples.\n",
      "  'precision', 'predicted', average, warn_for)\n",
      "[Parallel(n_jobs=1)]: Done  12 out of  12 | elapsed:    0.1s finished\n"
     ]
    }
   ],
   "source": [
    "# Import necessary modules\n",
    "from rasa_nlu.training_data import load_data\n",
    "from rasa_nlu.config import RasaNLUModelConfig\n",
    "from rasa_nlu.model import Trainer\n",
    "from rasa_nlu import config\n",
    "\n",
    "# Create a trainer that uses this config\n",
    "trainer = Trainer(config.load(\"config_spacy.yml\"))\n",
    "\n",
    "# Load the training data\n",
    "training_data = load_data('testData.json')\n",
    "\n",
    "# Create an interpreter by training the model\n",
    "interpreter = trainer.train(training_data)"
   ]
  },
  {
   "cell_type": "code",
   "execution_count": 3,
   "metadata": {
    "pycharm": {
     "is_executing": false,
     "name": "#%%\n"
    }
   },
   "outputs": [
    {
     "name": "stdout",
     "output_type": "stream",
     "text": [
      "{'name': 'stock_search', 'confidence': 0.45701349589671014}\n"
     ]
    }
   ],
   "source": [
    "entities = interpreter.parse(\"AAPL\")[\"intent\"]\n",
    "\n",
    "print(entities)"
   ]
  },
  {
   "cell_type": "code",
   "execution_count": 4,
   "metadata": {
    "pycharm": {
     "is_executing": false,
     "name": "#%%\n"
    }
   },
   "outputs": [],
   "source": [
    "import spacy\n",
    "nlp = spacy.load(\"en_core_web_md\")\n",
    "\n",
    "\n",
    "\n",
    "include_entities = ['ORG']\n",
    "# Define extract_entities()\n",
    "def extract_entities(message):\n",
    "    # Create a dict to hold the entities\n",
    "    ents = dict.fromkeys(include_entities)\n",
    "   \n",
    "    # Create a spacy document\n",
    "    doc = nlp(message)\n",
    "\n",
    "    for ent in doc.ents:\n",
    "        if ent.label_ in include_entities:\n",
    "            # Save interesting entities\n",
    "            return ent.text\n",
    "    return None"
   ]
  },
  {
   "cell_type": "code",
   "execution_count": 5,
   "metadata": {
    "pycharm": {
     "is_executing": false,
     "name": "#%%\n"
    }
   },
   "outputs": [
    {
     "name": "stdout",
     "output_type": "stream",
     "text": [
      "IBM\n"
     ]
    }
   ],
   "source": [
    "print(extract_entities(\"IBM\"))"
   ]
  },
  {
   "cell_type": "code",
   "execution_count": 26,
   "metadata": {
    "pycharm": {
     "is_executing": false,
     "name": "#%%\n"
    }
   },
   "outputs": [
    {
     "data": {
      "text/plain": [
       "{'symbol': 'AAPL',\n",
       " 'companyName': 'Apple, Inc.',\n",
       " 'primaryExchange': 'NASDAQ',\n",
       " 'calculationPrice': 'tops',\n",
       " 'open': None,\n",
       " 'openTime': None,\n",
       " 'close': None,\n",
       " 'closeTime': None,\n",
       " 'high': None,\n",
       " 'low': None,\n",
       " 'latestPrice': 201.71,\n",
       " 'latestSource': 'IEX real time price',\n",
       " 'latestTime': '11:53:03 AM',\n",
       " 'latestUpdate': 1565625183508,\n",
       " 'latestVolume': None,\n",
       " 'iexRealtimePrice': 201.71,\n",
       " 'iexRealtimeSize': 3,\n",
       " 'iexLastUpdated': 1565625183508,\n",
       " 'delayedPrice': None,\n",
       " 'delayedPriceTime': None,\n",
       " 'extendedPrice': None,\n",
       " 'extendedChange': None,\n",
       " 'extendedChangePercent': None,\n",
       " 'extendedPriceTime': None,\n",
       " 'previousClose': 200.99,\n",
       " 'previousVolume': None,\n",
       " 'change': 0.72,\n",
       " 'changePercent': 0.00358,\n",
       " 'volume': None,\n",
       " 'iexMarketPercent': 0.028589526589928502,\n",
       " 'iexVolume': 292787,\n",
       " 'avgTotalVolume': 25771974,\n",
       " 'iexBidPrice': 201.71,\n",
       " 'iexBidSize': 100,\n",
       " 'iexAskPrice': 201.73,\n",
       " 'iexAskSize': 100,\n",
       " 'marketCap': 911563797800,\n",
       " 'peRatio': 17.05,\n",
       " 'week52High': 233.47,\n",
       " 'week52Low': 142,\n",
       " 'ytdChange': 0.27631300000000003,\n",
       " 'lastTradeTime': 1565625183508,\n",
       " 'isUSMarketOpen': True}"
      ]
     },
     "execution_count": 26,
     "metadata": {},
     "output_type": "execute_result"
    }
   ],
   "source": [
    "from iexfinance.stocks import Stock\n",
    "\n",
    "appl = Stock('AAPL', token=\"sk_5949b3f3377c4d278e80fa93394b9bda\")\n",
    "\n",
    "quote = appl.get_quote()\n",
    "template = \"{0} in {1} have latest price {2} updated in {3}\"\n",
    "template.format(template,quote[\"companyName\"],quote['primaryExchange'],str(quote['latestPrice']),quote['latestTime'])\n"
   ]
  },
  {
   "cell_type": "code",
   "execution_count": 6,
   "metadata": {
    "pycharm": {
     "is_executing": false,
     "name": "#%%\n"
    }
   },
   "outputs": [
    {
     "name": "stdout",
     "output_type": "stream",
     "text": [
      "user: Hello\n",
      "bot: Hi, I am your stock assistant, which stock do you want to search?\n",
      "Hi, I am your stock assistant, which stock do you want to search?\n",
      "user: Could you help me to check some stock information?\n",
      "bot: no problem. Wait me a second….. \n",
      "bot: could you give me the stock number please?\n",
      "could you give me the stock number please?\n",
      "user: TSLA\n",
      "bot: OK, your stock info is on the way.\n",
      "TSLA\n",
      "bot: This is your stock information : Tesla, Inc. in NASDAQ have latest price 232.72 updated in 11:29:04 AM\n",
      "This is your stock information : Tesla, Inc. in NASDAQ have latest price 232.72 updated in 11:29:04 AM\n",
      "user: good bye\n",
      "bot: It’s my pleasure to help you.\n",
      "It’s my pleasure to help you.\n"
     ]
    }
   ],
   "source": [
    "import random\n",
    "from iexfinance.stocks import Stock\n",
    "INIT = 0\n",
    "SEARCH_STOCK = 1\n",
    "STOCK_NOT_FOUND = 2\n",
    "DATA_OK = 3\n",
    "DATA_FAILED = 4\n",
    "BYE_OK = 5\n",
    "BYE_FAILED = 6\n",
    "\n",
    "\n",
    "# a dictionary with (state,intent) -> (state,respond messages)\n",
    "policy = {\n",
    "    (INIT,\"greet\"):(INIT,[\"Hi, I am your stock assistant, which stock do you want to search?\"]),\n",
    "    (INIT,\"ask_explanation\"):(INIT,[\"I am a stock assistant, you can ask any your favorite stock.\",\"I can help you to check your stock, please tell me the stock number.\"]),\n",
    "    (INIT,\"stock_search\"):(SEARCH_STOCK,[\"no problem. Wait me a second….. \"]),\n",
    "    (STOCK_NOT_FOUND,None):(STOCK_NOT_FOUND,[\"could you give me the stock number please?\"]),\n",
    "    (STOCK_NOT_FOUND,\"stock_search\"):(SEARCH_STOCK,[\"OK, your stock info is on the way.\"]),\n",
    "    (DATA_OK,None):(DATA_OK,[\"This is your stock information : {0}\"]),\n",
    "    (DATA_OK,\"stock_search\"):(SEARCH_STOCK,[\"OK, another stock is on the way\"]),\n",
    "    (DATA_OK,\"goodbye\"):(BYE_OK,[\"It’s my pleasure to help you.\"]),\n",
    "    (DATA_FAILED,None):(DATA_FAILED,[\"Sorry, I can't check that information, could you provide a valid number?\"]),\n",
    "    (DATA_FAILED,\"stock_search\"):(SEARCH_STOCK,[\"On my duty!\"]),\n",
    "    (DATA_FAILED,\"goodbye\"):(BYE_FAILED,[\" I am sorry that can’t help you T_T.\"])\n",
    "    ## add additional unmatched dict\n",
    "    \n",
    "}\n",
    "# function that find stock information\n",
    "def find_stock(stock_name):\n",
    "    token =\"sk_5949b3f3377c4d278e80fa93394b9bda\"\n",
    "    stock = Stock(stock_name,token=token)\n",
    "    quote = stock.get_quote()\n",
    "    template = \"{} in {} have latest price {} updated in {}\"\n",
    "    \n",
    "    return template.format(quote[\"companyName\"],quote['primaryExchange'],str(quote['latestPrice']),quote['latestTime'])\n",
    "# function that interpret the intent and entities\n",
    "def interpret (message):\n",
    "    intent = interpreter.parse(message)[\"intent\"][\"name\"]\n",
    "    entities = interpreter.parse(message)[\"entities\"]\n",
    "    return intent, entities\n",
    "def execute_policy(state,intent,info = \"\"):\n",
    "    next_state,responses =policy[(state,intent)]\n",
    "    msg = None\n",
    "    if state == DATA_OK and intent is None:\n",
    "        msg = random.choice(responses).format(info)\n",
    "        print(\"bot: \"+random.choice(responses).format(info))\n",
    "    else:\n",
    "        msg = random.choice(responses)\n",
    "        print(\"bot: \"+random.choice(responses))\n",
    "        \n",
    "    return next_state, msg\n",
    "def respond(state,message):\n",
    "    intent,entities = interpret(message)\n",
    "    new_state = None\n",
    "    \n",
    "    new_state,msg = execute_policy(state,intent)\n",
    "   \n",
    "    if new_state == SEARCH_STOCK:\n",
    "        stock_value = None\n",
    "        stock_value = extract_entities(message)\n",
    "        if stock_value is  None: #len(entities) == 0:\n",
    "            \n",
    "            new_state,msg = execute_policy(STOCK_NOT_FOUND,None)\n",
    "        else:\n",
    "           # stock_value = entities[0][\"value\"]\n",
    "            print(stock_value)\n",
    "            stock_info = find_stock(stock_value)\n",
    "            if stock_info is not None:\n",
    "                new_state,msg = execute_policy(DATA_OK,None,info=stock_info)\n",
    "            else:\n",
    "                new_state,msg = execute_policy(DATA_FAILED,None)\n",
    "    \n",
    "    return new_state,msg\n",
    "\n",
    "def respond_messages(messages):\n",
    "    state = INIT\n",
    "    for message in messages:\n",
    "        print(\"user: \"+message)\n",
    "        state,msg = respond(state,message)\n",
    "        print(msg)\n",
    "\n",
    "messages = [\"Hello\",\"Could you help me to check some stock information?\",\"TSLA\",\"good bye\"]\n",
    "\n",
    "respond_messages(messages)\n",
    "        \n",
    "        \n",
    "        "
   ]
  },
  {
   "cell_type": "code",
   "execution_count": 24,
   "metadata": {
    "pycharm": {
     "is_executing": false,
     "name": "#%%\n"
    }
   },
   "outputs": [],
   "source": [
    "# start robot\n",
    "\n",
    "\n",
    "state = INIT\n",
    "\n",
    "\n"
   ]
  },
  {
   "cell_type": "code",
   "execution_count": 14,
   "metadata": {
    "pycharm": {
     "is_executing": false,
     "name": "#%%\n"
    }
   },
   "outputs": [
    {
     "name": "stdout",
     "output_type": "stream",
     "text": [
      "█\r"
     ]
    },
    {
     "name": "stderr",
     "output_type": "stream",
     "text": [
      "Getting uuid of QR code.\n",
      "Downloading QR code.\n",
      "Please scan the QR code to log in.\n",
      "Please press confirm on your phone.\n",
      "Loading the contact, this may take a little while.\n",
      "Login successfully as Leben\n"
     ]
    }
   ],
   "source": [
    "from wxpy import *\n",
    "bot = Bot()"
   ]
  },
  {
   "cell_type": "code",
   "execution_count": 25,
   "metadata": {
    "pycharm": {
     "is_executing": false,
     "name": "#%%\n"
    }
   },
   "outputs": [
    {
     "name": "stdout",
     "output_type": "stream",
     "text": [
      "bot: Hi, I am your stock assistant, which stock do you want to search?\n",
      "bot: Hi, I am your stock assistant, which stock do you want to search?\n",
      "bot: Hi, I am your stock assistant, which stock do you want to search?\n",
      "bot: no problem. Wait me a second….. \n",
      "bot: could you give me the stock number please?\n",
      "bot: OK, your stock info is on the way.\n",
      "AAPL\n",
      "bot: This is your stock information : Apple, Inc. in NASDAQ have latest price 208.54 updated in 11:54:28 AM\n"
     ]
    }
   ],
   "source": [
    "my_friend = bot.friends().search('alexanderio')[0]\n",
    "\n",
    "@bot.register(my_friend)\n",
    "def reply_my_friend(msg):\n",
    "    global state\n",
    "    state,msg = respond(state,msg.text)\n",
    "    return msg\n"
   ]
  },
  {
   "cell_type": "code",
   "execution_count": 22,
   "metadata": {},
   "outputs": [
    {
     "data": {
      "text/plain": [
       "↪ alexanderio : Hello my friend (Text)"
      ]
     },
     "execution_count": 22,
     "metadata": {},
     "output_type": "execute_result"
    }
   ],
   "source": [
    "my_friend.send('Hello my friend')"
   ]
  },
  {
   "cell_type": "code",
   "execution_count": null,
   "metadata": {},
   "outputs": [],
   "source": []
  }
 ],
 "metadata": {
  "kernelspec": {
   "display_name": "Python 3",
   "language": "python",
   "name": "python3"
  },
  "language_info": {
   "codemirror_mode": {
    "name": "ipython",
    "version": 3
   },
   "file_extension": ".py",
   "mimetype": "text/x-python",
   "name": "python",
   "nbconvert_exporter": "python",
   "pygments_lexer": "ipython3",
   "version": "3.7.3"
  },
  "pycharm": {
   "stem_cell": {
    "cell_type": "raw",
    "metadata": {
     "collapsed": false
    },
    "source": []
   }
  }
 },
 "nbformat": 4,
 "nbformat_minor": 1
}
